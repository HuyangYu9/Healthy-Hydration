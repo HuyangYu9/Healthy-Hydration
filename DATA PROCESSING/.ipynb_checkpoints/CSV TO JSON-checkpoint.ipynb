{
 "cells": [
  {
   "cell_type": "code",
   "execution_count": 5,
   "id": "5a274885",
   "metadata": {},
   "outputs": [],
   "source": [
    "import csv\n",
    "import json\n",
    "\n",
    "\n",
    "data = []\n",
    "\n",
    "with open(\"DATA.csv\", newline='') as csvfile:\n",
    "    reader = csv.reader(csvfile, delimiter=',', quotechar='\"')\n",
    "    for line in reader:\n",
    "        date, *rest = line\n",
    "        row = {'date': date, \n",
    "              'body_water': round(float(rest[0]), 2),\n",
    "              'water_drank': round(float(rest[1]), 2),\n",
    "              'activity_time': round(float(rest[2]), 2),\n",
    "              'avg_temp':  round(float(rest[3]), 2),\n",
    "              'avg_hum':  round(float(rest[4]), 2)}\n",
    "        \n",
    "        data.append(row)\n",
    "\n",
    "new_json = json.dumps(data)\n",
    "\n",
    "with open(\"test.json\", \"w\") as outfile:\n",
    "    outfile.write(new_json)\n",
    "    \n",
    "    "
   ]
  },
  {
   "cell_type": "code",
   "execution_count": null,
   "id": "75f010c8",
   "metadata": {},
   "outputs": [],
   "source": []
  }
 ],
 "metadata": {
  "kernelspec": {
   "display_name": "Python 3 (ipykernel)",
   "language": "python",
   "name": "python3"
  },
  "language_info": {
   "codemirror_mode": {
    "name": "ipython",
    "version": 3
   },
   "file_extension": ".py",
   "mimetype": "text/x-python",
   "name": "python",
   "nbconvert_exporter": "python",
   "pygments_lexer": "ipython3",
   "version": "3.7.4"
  }
 },
 "nbformat": 4,
 "nbformat_minor": 5
}

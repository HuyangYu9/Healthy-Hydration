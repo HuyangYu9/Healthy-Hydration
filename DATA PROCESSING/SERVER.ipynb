{
 "cells": [
  {
   "cell_type": "code",
   "execution_count": 66,
   "id": "c7207a41",
   "metadata": {},
   "outputs": [],
   "source": [
    "from flask import Flask, jsonify, request\n",
    "from sklearn.linear_model import LinearRegression\n",
    "import numpy as np\n",
    "from scipy.optimize import minimize\n",
    "import pandas as pd\n",
    "import json\n",
    "import datetime\n",
    "\n",
    "\n",
    "\n",
    "app = Flask(__name__)\n",
    "\n",
    "\n",
    "def calculate(current, data):\n",
    "    # TODO predict activity level based on day of week, weighted towards recency\n",
    "    \n",
    "    df = pd.json_normalize(data)\n",
    "    \n",
    "    weights = np.linspace(1, 2, num=len(data) - 1)\n",
    "\n",
    "    Y = [element['activity_time'] for element in data[1:]]\n",
    "    X = []\n",
    "    \n",
    "    min_w, max_w = float('inf'), 0\n",
    "    \n",
    "    for index, row in df.iterrows():\n",
    "        min_w = min(min_w, row['water_drank'])\n",
    "        max_w = max(max_w, row['water_drank'])\n",
    "        \n",
    "        if index == 0:\n",
    "            continue\n",
    "        to_append = []\n",
    "        \n",
    "        year, month, day = [int(element) for element in row[\"date\"].split(\"-\")]\n",
    "        date = datetime.datetime(year, month, day)\n",
    "        to_append.append(date.weekday())\n",
    "        to_append.append(date.month)\n",
    "        to_append.append(row[\"avg_temp\"])\n",
    "        to_append.append(row[\"avg_hum\"])\n",
    "        to_append.append(df.iloc[index - 1][\"activity_time\"])\n",
    "        to_append = to_append + [pow(element, 2) for element in to_append]\n",
    "        X.append(to_append)\n",
    "    \n",
    "    # process to make prediction\n",
    "    X = np.array(X)\n",
    "    activity_model = LinearRegression().fit(X, Y, weights)\n",
    "    today = datetime.datetime.today()\n",
    "    current_X = [today.weekday(), today.month, current[\"avg_temp\"], current[\"avg_hum\"], df.iloc[-1][\"activity_time\"]]\n",
    "    current_X = current_X + [pow(element, 2) for element in current_X]\n",
    "    current_X = np.array(current_X).reshape(1, -1)\n",
    "    # predicted activity\n",
    "    pred_ex = activity_model.predict(current_X)\n",
    "    # WORKS UP TO HERE\n",
    "    \n",
    "    \n",
    "    Y = [element['score'] for element in data[1:]]\n",
    "    X = []\n",
    "    for index, row in df.iterrows():\n",
    "        if index == 0:\n",
    "            continue\n",
    "        to_append = []\n",
    "        to_append.append(row['water_drank'])\n",
    "        to_append.append(row[\"avg_temp\"])\n",
    "        to_append.append(row[\"avg_hum\"])\n",
    "        to_append.append(row[\"activity_time\"])\n",
    "        # use previous days bodywater measure\n",
    "        to_append.append(df.iloc[index - 1]['body_water'])\n",
    "        to_append = to_append + [pow(element, 2) for element in to_append]\n",
    "\n",
    "        X.append(to_append)\n",
    "        \n",
    "        \n",
    "        \n",
    "        \n",
    "    water_model = LinearRegression().fit(X, Y, weights)\n",
    "    \n",
    "    # REGRESS A FUNCTION OF WATER DRANK AND ACTIVITY LEVEL TO SATISFACTION RATING THEN FIND MAX VALUE SPECIFIED BELOW\n",
    "    to_display = []\n",
    "    for i, value in enumerate(np.linspace(min_w, max_w, num=50)):\n",
    "        water_row = [value, current[\"avg_temp\"], current[\"avg_hum\"], pred_ex[0], df.iloc[-1]['body_water']]\n",
    "        water_row = water_row + [pow(element, 2) for element in water_row]\n",
    "        water_row = np.array(water_row).reshape(1, -1)\n",
    "        if i == 0:\n",
    "            current_max = water_row\n",
    "        else:\n",
    "            current_max = min(current_max, water_row, key=lambda x: abs(water_model.predict(x) - 5))\n",
    "            to_display.append(abs(water_model.predict(water_row) - 5))\n",
    "\n",
    "        \n",
    "    return current_max[0][0]\n",
    "        \n",
    "\n",
    "\n"
   ]
  },
  {
   "cell_type": "code",
   "execution_count": 67,
   "id": "2025aee4",
   "metadata": {},
   "outputs": [
    {
     "name": "stdout",
     "output_type": "stream",
     "text": [
      "2708.0877551020412\n",
      " * Serving Flask app '__main__'\n",
      " * Debug mode: on\n"
     ]
    },
    {
     "name": "stderr",
     "output_type": "stream",
     "text": [
      "WARNING: This is a development server. Do not use it in a production deployment. Use a production WSGI server instead.\n",
      " * Running on http://127.0.0.1:5000\n",
      "Press CTRL+C to quit\n",
      " * Restarting with stat\n"
     ]
    },
    {
     "ename": "SystemExit",
     "evalue": "1",
     "output_type": "error",
     "traceback": [
      "An exception has occurred, use %tb to see the full traceback.\n",
      "\u001b[1;31mSystemExit\u001b[0m\u001b[1;31m:\u001b[0m 1\n"
     ]
    },
    {
     "name": "stderr",
     "output_type": "stream",
     "text": [
      "c:\\users\\james marsee\\appdata\\local\\programs\\python\\python37\\lib\\site-packages\\IPython\\core\\interactiveshell.py:3465: UserWarning: To exit: use 'exit', 'quit', or Ctrl-D.\n",
      "  warn(\"To exit: use 'exit', 'quit', or Ctrl-D.\", stacklevel=1)\n"
     ]
    }
   ],
   "source": [
    "@app.route('/', methods = ['POST'])\n",
    "def regress():\n",
    "    data = request.json\n",
    "    prediction = calculate(data)\n",
    "    return jsonify(status=\"success\", result=prediction)\n",
    "\n",
    "\n",
    "if __name__ == '__main__':\n",
    "    # TEST SHIT\n",
    "    with open(\"test.json\", \"r\") as test_data:\n",
    "        data = json.loads(test_data.read())\n",
    "        data = {\"current\" : {\"avg_temp\": 18, \"avg_hum\": 20}, \"prev\": data}\n",
    "        current, prev = data[\"current\"], data[\"prev\"]\n",
    "        print(calculate(current, prev))\n",
    "    \n",
    "    app.run(debug = True)"
   ]
  },
  {
   "cell_type": "code",
   "execution_count": null,
   "id": "f54ee3d0",
   "metadata": {},
   "outputs": [],
   "source": []
  }
 ],
 "metadata": {
  "kernelspec": {
   "display_name": "Python 3 (ipykernel)",
   "language": "python",
   "name": "python3"
  },
  "language_info": {
   "codemirror_mode": {
    "name": "ipython",
    "version": 3
   },
   "file_extension": ".py",
   "mimetype": "text/x-python",
   "name": "python",
   "nbconvert_exporter": "python",
   "pygments_lexer": "ipython3",
   "version": "3.7.4"
  }
 },
 "nbformat": 4,
 "nbformat_minor": 5
}
